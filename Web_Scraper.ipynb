{
 "cells": [
  {
   "cell_type": "markdown",
   "metadata": {},
   "source": [
    "# Import Dependencies"
   ]
  },
  {
   "cell_type": "code",
   "execution_count": 6,
   "metadata": {},
   "outputs": [],
   "source": [
    "import urllib.request as urllib\n",
    "from bs4 import BeautifulSoup"
   ]
  },
  {
   "cell_type": "markdown",
   "metadata": {},
   "source": [
    "# Build Scraper"
   ]
  },
  {
   "cell_type": "code",
   "execution_count": 7,
   "metadata": {},
   "outputs": [],
   "source": [
    "class Scraper:\n",
    "    def __init__(self, site):\n",
    "        self.site = site\n",
    "    \n",
    "    def scrape(self):\n",
    "        r = urllib.urlopen(self.site)\n",
    "        html = r.read()\n",
    "        parser = 'html.parser'\n",
    "        sp = BeautifulSoup(html, parser)\n",
    "        for tag in sp.find_all('a'):\n",
    "            url = tag.get('href')\n",
    "            print('\\n'+url)\n",
    "            \n",
    "# site = website to parse\n",
    "# r = reponse HTML and additional data\n",
    "# r.read() = takes the HTML from the response object, stores in html\n",
    "# Beautiful Soup object takes 2 parameters. html to parse and parser that lets BS know your are parsing HTML\n",
    "# use for loop and find_all method to all <a> tags\n",
    "# save the links to url, then print the result for each a tag found"
   ]
  },
  {
   "cell_type": "markdown",
   "metadata": {},
   "source": [
    "# Create scraper object"
   ]
  },
  {
   "cell_type": "code",
   "execution_count": 8,
   "metadata": {},
   "outputs": [
    {
     "name": "stdout",
     "output_type": "stream",
     "text": [
      "\n",
      "./?hl=en-CA&gl=CA&ceid=CA%3Aen\n",
      "\n",
      "https://www.google.ca/intl/en/about/products?tab=nh\n",
      "\n",
      "https://myaccount.google.com/?utm_source=OGB&tab=nk&utm_medium=app\n",
      "\n",
      "https://www.google.ca/webhp?tab=nw\n",
      "\n",
      "https://maps.google.ca/maps?hl=en&tab=nl\n",
      "\n",
      "https://www.youtube.com/?gl=CA&tab=n1\n",
      "\n",
      "https://play.google.com/?hl=en&tab=n8\n",
      "\n",
      "https://news.google.com/?tab=nn\n",
      "\n",
      "https://mail.google.com/mail/?tab=nm\n",
      "\n",
      "https://meet.google.com/?hs=197\n",
      "\n",
      "https://contacts.google.com/?hl=en&tab=nC\n",
      "\n",
      "https://drive.google.com/?tab=no\n",
      "\n",
      "https://www.google.com/calendar?tab=nc\n",
      "\n",
      "https://translate.google.ca/?hl=en&tab=nT\n",
      "\n",
      "https://photos.google.com/?tab=nq&pageId=none\n",
      "\n",
      "https://duo.google.com/?usp=duo_ald\n",
      "\n",
      "https://www.google.com/chrome/?brand=CHZO&utm_source=google.com&utm_medium=desktop-app-launcher&utm_campaign=desktop-app-launcher&utm_content=chrome-logo&utm_keyword=CHZO\n",
      "\n",
      "https://www.google.ca/shopping?hl=en&source=og&tab=nf\n",
      "\n",
      "https://www.google.ca/finance?tab=ne\n",
      "\n",
      "https://docs.google.com/document/?usp=docs_alc\n",
      "\n",
      "https://docs.google.com/spreadsheets/?usp=sheets_alc\n",
      "\n",
      "https://docs.google.com/presentation/?usp=slides_alc\n",
      "\n",
      "https://books.google.ca/?hl=en&tab=np\n",
      "\n",
      "https://www.blogger.com/?tab=nj\n",
      "\n",
      "https://hangouts.google.com/\n",
      "\n",
      "https://keep.google.com/\n",
      "\n",
      "https://jamboard.google.com/?usp=jam_ald\n",
      "\n",
      "https://earth.google.com/web/\n",
      "\n",
      "https://www.google.ca/save\n",
      "\n",
      "https://artsandculture.google.com/?hl=en&utm_source=ogs.google.com&utm_medium=referral\n",
      "\n",
      "https://ads.google.com/home/?subid=ww-ww-et-g-aw-a-vasquette_ads_cons_1!o2\n",
      "\n",
      "https://podcasts.google.com/\n",
      "\n",
      "https://stadia.google.com/\n",
      "\n",
      "https://www.google.ca/intl/en/about/products?tab=nh\n",
      "\n",
      "https://accounts.google.com/ServiceLogin?passive=1209600&continue=https://news.google.com/topstories?hl%3Den-CA%26gl%3DCA%26ceid%3DCA:en&followup=https://news.google.com/topstories?hl%3Den-CA%26gl%3DCA%26ceid%3DCA:en&hl=en-CA&ec=GAZAqgM\n",
      "\n",
      "./?hl=en-CA&gl=CA&ceid=CA%3Aen\n",
      "\n",
      "./topstories?hl=en-CA&gl=CA&ceid=CA%3Aen\n",
      "\n",
      "./topics/CAAqIggKIhxDQkFTRHdvSkwyMHZNREZqY0hsNUVnSmxiaWdBUAE?hl=en-CA&gl=CA&ceid=CA%3Aen\n",
      "\n",
      "./topics/CAAqIggKIhxDQkFTRHdvSkwyMHZNR1F3TmpCbkVnSmxiaWdBUAE?hl=en-CA&gl=CA&ceid=CA%3Aen\n",
      "\n",
      "./topics/CAAqJggKIiBDQkFTRWdvSUwyMHZNRGx1YlY4U0FtVnVHZ0pEUVNnQVAB?hl=en-CA&gl=CA&ceid=CA%3Aen\n",
      "\n",
      "./topics/CAAqHAgKIhZDQklTQ2pvSWJHOWpZV3hmZGpJb0FBUAE?hl=en-CA&gl=CA&ceid=CA%3Aen\n",
      "\n",
      "./topics/CAAqJggKIiBDQkFTRWdvSUwyMHZNRGx6TVdZU0FtVnVHZ0pEUVNnQVAB?hl=en-CA&gl=CA&ceid=CA%3Aen\n",
      "\n",
      "./topics/CAAqJggKIiBDQkFTRWdvSUwyMHZNRGRqTVhZU0FtVnVHZ0pEUVNnQVAB?hl=en-CA&gl=CA&ceid=CA%3Aen\n",
      "\n",
      "./topics/CAAqJggKIiBDQkFTRWdvSUwyMHZNREpxYW5RU0FtVnVHZ0pEUVNnQVAB?hl=en-CA&gl=CA&ceid=CA%3Aen\n",
      "\n",
      "./topics/CAAqJggKIiBDQkFTRWdvSUwyMHZNRFp1ZEdvU0FtVnVHZ0pEUVNnQVAB?hl=en-CA&gl=CA&ceid=CA%3Aen\n",
      "\n",
      "./topics/CAAqJggKIiBDQkFTRWdvSUwyMHZNRFp0Y1RjU0FtVnVHZ0pEUVNnQVAB?hl=en-CA&gl=CA&ceid=CA%3Aen\n",
      "\n",
      "./topics/CAAqIQgKIhtDQkFTRGdvSUwyMHZNR3QwTlRFU0FtVnVLQUFQAQ?hl=en-CA&gl=CA&ceid=CA%3Aen\n",
      "\n",
      "https://play.google.com/store/apps/details?id=com.google.android.apps.magazines&referrer=news.google.com?utm_source=web&utm_medium=menu&utm_campaign=side_menu_promotion\n",
      "\n",
      "https://itunes.apple.com/CA/app/apple-store/id459182288?pt=9008&ct=Web%20Side%20Promotion&mt=8&l=en-CA\n",
      "\n",
      "https://support.google.com/googlenews?p=web&hl=en-CA&authuser=0\n",
      "\n",
      "https://www.google.com/producer/app/privacy?hl=en-CA\n",
      "\n",
      "https://www.google.com/producer/app/tos?hl=en-CA\n",
      "\n",
      "https://www.google.com/about\n",
      "\n",
      "./topics/CAAqJggKIiBDQkFTRWdvSUwyMHZNRFZxYUdjU0FtVnVHZ0pEUVNnQVAB?hl=en-CA&gl=CA&ceid=CA%3Aen\n",
      "\n",
      "./topics/CAAqJggKIiBDQkFTRWdvSUwyMHZNRFZxYUdjU0FtVnVHZ0pEUVNnQVAB?hl=en-CA&gl=CA&ceid=CA%3Aen\n",
      "\n",
      "./articles/CBMiZWh0dHBzOi8vd3d3LmN0dm5ld3MuY2EvcG9saXRpY3MvY2FuYWRhLWxvY2tzLWluLXRob3VzYW5kcy1tb3JlLWVhcmx5LWNvdmlkLTE5LXZhY2NpbmUtZG9zZXMtMS41MjMxOTcz0gEA?hl=en-CA&gl=CA&ceid=CA%3Aen\n",
      "\n",
      "./articles/CBMiZWh0dHBzOi8vd3d3LmN0dm5ld3MuY2EvcG9saXRpY3MvY2FuYWRhLWxvY2tzLWluLXRob3VzYW5kcy1tb3JlLWVhcmx5LWNvdmlkLTE5LXZhY2NpbmUtZG9zZXMtMS41MjMxOTcz0gEA?hl=en-CA&gl=CA&ceid=CA%3Aen\n",
      "\n",
      "./articles/CBMiZWh0dHBzOi8vd3d3LmN0dm5ld3MuY2EvcG9saXRpY3MvY2FuYWRhLWxvY2tzLWluLXRob3VzYW5kcy1tb3JlLWVhcmx5LWNvdmlkLTE5LXZhY2NpbmUtZG9zZXMtMS41MjMxOTcz0gEA?hl=en-CA&gl=CA&ceid=CA%3Aen\n"
     ]
    },
    {
     "ename": "TypeError",
     "evalue": "can only concatenate str (not \"NoneType\") to str",
     "output_type": "error",
     "traceback": [
      "\u001b[1;31m---------------------------------------------------------------------------\u001b[0m",
      "\u001b[1;31mTypeError\u001b[0m                                 Traceback (most recent call last)",
      "\u001b[1;32m<ipython-input-8-dd89291850bc>\u001b[0m in \u001b[0;36m<module>\u001b[1;34m\u001b[0m\n\u001b[0;32m      1\u001b[0m \u001b[0mscrape\u001b[0m \u001b[1;33m=\u001b[0m \u001b[0mScraper\u001b[0m\u001b[1;33m(\u001b[0m\u001b[1;34m'https://news.google.com'\u001b[0m\u001b[1;33m)\u001b[0m\u001b[1;33m\u001b[0m\u001b[1;33m\u001b[0m\u001b[0m\n\u001b[1;32m----> 2\u001b[1;33m \u001b[0mscrape\u001b[0m\u001b[1;33m.\u001b[0m\u001b[0mscrape\u001b[0m\u001b[1;33m(\u001b[0m\u001b[1;33m)\u001b[0m\u001b[1;33m\u001b[0m\u001b[1;33m\u001b[0m\u001b[0m\n\u001b[0m",
      "\u001b[1;32m<ipython-input-7-527bb8bf1dbc>\u001b[0m in \u001b[0;36mscrape\u001b[1;34m(self)\u001b[0m\n\u001b[0;32m     10\u001b[0m         \u001b[1;32mfor\u001b[0m \u001b[0mtag\u001b[0m \u001b[1;32min\u001b[0m \u001b[0msp\u001b[0m\u001b[1;33m.\u001b[0m\u001b[0mfind_all\u001b[0m\u001b[1;33m(\u001b[0m\u001b[1;34m'a'\u001b[0m\u001b[1;33m)\u001b[0m\u001b[1;33m:\u001b[0m\u001b[1;33m\u001b[0m\u001b[1;33m\u001b[0m\u001b[0m\n\u001b[0;32m     11\u001b[0m             \u001b[0murl\u001b[0m \u001b[1;33m=\u001b[0m \u001b[0mtag\u001b[0m\u001b[1;33m.\u001b[0m\u001b[0mget\u001b[0m\u001b[1;33m(\u001b[0m\u001b[1;34m'href'\u001b[0m\u001b[1;33m)\u001b[0m\u001b[1;33m\u001b[0m\u001b[1;33m\u001b[0m\u001b[0m\n\u001b[1;32m---> 12\u001b[1;33m             \u001b[0mprint\u001b[0m\u001b[1;33m(\u001b[0m\u001b[1;34m'\\n'\u001b[0m\u001b[1;33m+\u001b[0m\u001b[0murl\u001b[0m\u001b[1;33m)\u001b[0m\u001b[1;33m\u001b[0m\u001b[1;33m\u001b[0m\u001b[0m\n\u001b[0m\u001b[0;32m     13\u001b[0m \u001b[1;33m\u001b[0m\u001b[0m\n",
      "\u001b[1;31mTypeError\u001b[0m: can only concatenate str (not \"NoneType\") to str"
     ]
    }
   ],
   "source": [
    "scrape = Scraper('https://news.google.com')\n",
    "scrape.scrape()\n",
    "\n",
    "#create scraper object with website to scrape.\n",
    "# scrape all <a> tags according to the class"
   ]
  },
  {
   "cell_type": "code",
   "execution_count": null,
   "metadata": {},
   "outputs": [],
   "source": []
  }
 ],
 "metadata": {
  "kernelspec": {
   "display_name": "Python 3",
   "language": "python",
   "name": "python3"
  },
  "language_info": {
   "codemirror_mode": {
    "name": "ipython",
    "version": 3
   },
   "file_extension": ".py",
   "mimetype": "text/x-python",
   "name": "python",
   "nbconvert_exporter": "python",
   "pygments_lexer": "ipython3",
   "version": "3.7.6"
  }
 },
 "nbformat": 4,
 "nbformat_minor": 4
}
