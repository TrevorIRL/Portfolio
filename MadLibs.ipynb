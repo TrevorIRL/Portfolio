{
 "cells": [
  {
   "cell_type": "code",
   "execution_count": 1,
   "metadata": {},
   "outputs": [],
   "source": [
    "import re"
   ]
  },
  {
   "cell_type": "code",
   "execution_count": 2,
   "metadata": {},
   "outputs": [],
   "source": [
    "text = '''Giraffes have aroused\n",
    "        the curiosity of __PLURAL_NOUN__\n",
    "        since the earliest times. The\n",
    "        giraffe is the tallest of all \n",
    "        living __PLURAL_NOUN__, but\n",
    "        scientists are unable to explain\n",
    "        how it got its long __PART_OF_THE_BODY__.\n",
    "        The giraffe's tremendous height\n",
    "        which might reach __NUMBER__ __PLURAL_NOUN__, \n",
    "        comes from its legs and __BODYPART__'''"
   ]
  },
  {
   "cell_type": "code",
   "execution_count": 4,
   "metadata": {},
   "outputs": [],
   "source": [
    "def mad_libs(mls):\n",
    "    hints = re.findall('__.*?__', mls)\n",
    "    if hints is not None:\n",
    "        for word in hints:\n",
    "            q = \"Enter a {}\".format(word)\n",
    "            new = input(q)\n",
    "            mls = mls.replace(word, new, 1)\n",
    "        print('\\n')\n",
    "        mls = mls.replace('\\n', '')\n",
    "        print(mls)\n",
    "    else:\n",
    "        print('invalid mls')"
   ]
  },
  {
   "cell_type": "code",
   "execution_count": 5,
   "metadata": {},
   "outputs": [
    {
     "name": "stdout",
     "output_type": "stream",
     "text": [
      "Enter a __PLURAL_NOUN__Humans\n",
      "Enter a __PLURAL_NOUN__Donkey\n",
      "Enter a __PART_OF_THE_BODY__Penis\n",
      "Enter a __NUMBER__5\n",
      "Enter a __PLURAL_NOUN__Human\n",
      "Enter a __BODYPART__Leg\n",
      "\n",
      "\n",
      "Giraffes have aroused        the curiosity of Humans        since the earliest times. The        giraffe is the tallest of all         living Donkey, but        scientists are unable to explain        how it got its long Penis.        The giraffe's tremendous heightm        which might reac 5 Human,         comes from its legs and Leg\n"
     ]
    }
   ],
   "source": [
    "mad_libs(text)"
   ]
  },
  {
   "cell_type": "markdown",
   "metadata": {},
   "source": []
  }
 ],
 "metadata": {
  "kernelspec": {
   "display_name": "Python 3",
   "language": "python",
   "name": "python3"
  },
  "language_info": {
   "codemirror_mode": {
    "name": "ipython",
    "version": 3
   },
   "file_extension": ".py",
   "mimetype": "text/x-python",
   "name": "python",
   "nbconvert_exporter": "python",
   "pygments_lexer": "ipython3",
   "version": "3.7.6"
  }
 },
 "nbformat": 4,
 "nbformat_minor": 4
}
